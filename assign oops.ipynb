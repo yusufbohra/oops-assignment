{
 "cells": [
  {
   "cell_type": "code",
   "execution_count": 2,
   "id": "f3e6423d-32c6-4768-92c8-a1a9067e5d10",
   "metadata": {},
   "outputs": [
    {
     "name": "stdout",
     "output_type": "stream",
     "text": [
      "ferrari\n",
      "200\n",
      "50\n"
     ]
    }
   ],
   "source": [
    "#que 1\n",
    "class Vehicle:\n",
    "    def __init__(self, name_of_vehicle, max_speed, average_of_vehicle):\n",
    "        self.name_of_vehicle = name_of_vehicle\n",
    "        self.max_speed = max_speed\n",
    "        self.average_of_vehicle = average_of_vehicle\n",
    "car = Vehicle(\"ferrari\", 200, 50)\n",
    "print(car.name_of_vehicle) \n",
    "print(car.max_speed)  \n",
    "print(car.average_of_vehicle)  \n",
    "\n"
   ]
  },
  {
   "cell_type": "code",
   "execution_count": 3,
   "id": "6bde2054-eab0-4129-93ef-904890970425",
   "metadata": {},
   "outputs": [
    {
     "name": "stdout",
     "output_type": "stream",
     "text": [
      "ferrari - Seating Capacity: 4\n"
     ]
    }
   ],
   "source": [
    "#que 2\n",
    "class Car(Vehicle):\n",
    "    def seating_capacity(self, capacity):\n",
    "        return f\"{self.name_of_vehicle} - Seating Capacity: {capacity}\"\n",
    "car = Car(\"ferrari\", 200, 50)\n",
    "print(car.seating_capacity(4))\n"
   ]
  },
  {
   "cell_type": "code",
   "execution_count": 4,
   "id": "467b6bca-7fee-44d1-b83b-825406b0ecc4",
   "metadata": {},
   "outputs": [
    {
     "name": "stdout",
     "output_type": "stream",
     "text": [
      "This is method A\n",
      "This is method B\n",
      "This is method C\n"
     ]
    }
   ],
   "source": [
    "#que 3\n",
    "# Multiple inheritance is a feature in object-oriented programming languages that allows a class to inherit attributes and methods from multiple parent classes. In Python, a class can inherit from multiple parent classes by listing them inside parentheses after the class name.\n",
    "\n",
    "#code\n",
    "class A:\n",
    "    def method_a(self):\n",
    "        print(\"This is method A\")\n",
    "\n",
    "\n",
    "class B:\n",
    "    def method_b(self):\n",
    "        print(\"This is method B\")\n",
    "\n",
    "\n",
    "class C(A, B):\n",
    "    def method_c(self):\n",
    "        print(\"This is method C\")\n",
    "\n",
    "\n",
    "# Create an instance of class C\n",
    "obj = C()\n",
    "\n",
    "# Call methods from class A\n",
    "obj.method_a()\n",
    "\n",
    "# Call methods from class B\n",
    "obj.method_b()\n",
    "\n",
    "# Call method from class C\n",
    "obj.method_c()\n"
   ]
  },
  {
   "cell_type": "code",
   "execution_count": null,
   "id": "59835b48-6eed-4747-88b7-92a992ad8d49",
   "metadata": {},
   "outputs": [],
   "source": [
    "#que 4\n",
    "#In Python, getters and setters are methods used to access and modify the values of instance variables (also known as properties) of a class. They provide an interface to get and set the values of private or protected variables and allow for better encapsulation and control over the class's data.\n",
    "\n",
    "#code\n"
   ]
  }
 ],
 "metadata": {
  "kernelspec": {
   "display_name": "Python 3 (ipykernel)",
   "language": "python",
   "name": "python3"
  },
  "language_info": {
   "codemirror_mode": {
    "name": "ipython",
    "version": 3
   },
   "file_extension": ".py",
   "mimetype": "text/x-python",
   "name": "python",
   "nbconvert_exporter": "python",
   "pygments_lexer": "ipython3",
   "version": "3.10.8"
  }
 },
 "nbformat": 4,
 "nbformat_minor": 5
}
